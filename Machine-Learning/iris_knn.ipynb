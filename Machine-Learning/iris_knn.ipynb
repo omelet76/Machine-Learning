{
 "cells": [
  {
   "cell_type": "code",
   "execution_count": 1,
   "metadata": {
    "collapsed": true
   },
   "outputs": [],
   "source": [
    "from sklearn.datasets import load_iris, fetch_20newsgroups\n",
    "from sklearn.model_selection import train_test_split, GridSearchCV\n",
    "from sklearn.neighbors import KNeighborsClassifier\n",
    "from sklearn.preprocessing import StandardScaler\n",
    "from sklearn.feature_extraction.text import TfidfVectorizer\n",
    "from sklearn.naive_bayes import MultinomialNB\n",
    "from sklearn.metrics import classification_report\n",
    "from sklearn.feature_extraction import DictVectorizer\n",
    "from sklearn.tree import DecisionTreeClassifier, export_graphviz\n",
    "from sklearn.ensemble import RandomForestClassifier\n",
    "import pandas as pd\n",
    "import numpy as np\n",
    "from sklearn.metrics import roc_auc_score"
   ]
  },
  {
   "cell_type": "code",
   "execution_count": 2,
   "outputs": [],
   "source": [
    "# 添加数据集\n",
    "iris_dataset = load_iris()\n",
    "X = iris_dataset['data']\n",
    "Y = iris_dataset['target']"
   ],
   "metadata": {
    "collapsed": false
   }
  },
  {
   "cell_type": "code",
   "execution_count": 3,
   "outputs": [
    {
     "name": "stdout",
     "output_type": "stream",
     "text": [
      "[1 1 2 0 2 0 0 1 2 2 2 2 1 2 1 1 2 2 2 2 1 2 1 0 2 1 1 1 1 2 0 0 2 1 0 0 1\n",
      " 0 2 1 0 1 2 1 0 2 2 2 2 0 0 2 2 0 2 0 2 2 0 0 2 0 0 0 1 2 2 0 0 0 1 1 0 0\n",
      " 1 0 2 1 2 1 0 2 0 2 0 0 2 0 2 1 1 1 2 2 1 1 0 1 2 2 0 1 1 1 1 0 0 0 2 1 2\n",
      " 0]\n",
      "**************************************************\n",
      "[2 1 0 2 0 2 0 1 1 1 2 1 1 1 1 0 1 1 0 0 2 1 0 0 2 0 0 1 1 0 2 1 0 2 2 1 0\n",
      " 1]\n"
     ]
    }
   ],
   "source": [
    "# 数据划分\n",
    "X_train, X_test, Y_train, Y_test = train_test_split(X, Y, test_size=0.25, random_state=0)\n",
    "print(Y_train)\n",
    "print('*' * 50)\n",
    "print(Y_test)"
   ],
   "metadata": {
    "collapsed": false
   }
  },
  {
   "cell_type": "code",
   "execution_count": 4,
   "outputs": [],
   "source": [
    "# 标准化\n",
    "# 特征工程（标准化）,下面3行注释，一开始我们不进行标准化，看下效果，目标值要不要标准化？\n",
    "std = StandardScaler()\n",
    "# #\n",
    "# # # 对测试集和训练集的特征值进行标准化,服务于knn fit\n",
    "X_train = std.fit_transform(X_train)\n",
    "# # transform返回的是copy，不在原有的输入对象中去修改\n",
    "# print(id(x_test))\n",
    "X_test = std.transform(X_test)  #transfrom不再进行均值和方差的计算，是在原有的基础上去标准化"
   ],
   "metadata": {
    "collapsed": false
   }
  },
  {
   "cell_type": "code",
   "execution_count": 5,
   "outputs": [],
   "source": [
    "knn = KNeighborsClassifier()"
   ],
   "metadata": {
    "collapsed": false
   }
  },
  {
   "cell_type": "code",
   "execution_count": 6,
   "outputs": [
    {
     "name": "stdout",
     "output_type": "stream",
     "text": [
      "在测试集上准确率： 0.9736842105263158\n",
      "在交叉验证当中最好的结果： 0.9556661925082978\n",
      "选择最好的模型是： KNeighborsClassifier(n_neighbors=8)\n",
      "每个超参数每次交叉验证的结果： {'mean_fit_time': array([0.00065708, 0.00066503, 0.        , 0.00033243, 0.00033331,\n",
      "       0.        , 0.0008347 , 0.00066487, 0.00099746, 0.00066487]), 'std_fit_time': array([4.64728799e-04, 4.70246478e-04, 0.00000000e+00, 4.70134046e-04,\n",
      "       4.71370354e-04, 0.00000000e+00, 6.25674223e-04, 4.70134046e-04,\n",
      "       1.12391596e-07, 4.70134046e-04]), 'mean_score_time': array([0.00166194, 0.00132958, 0.00199469, 0.00099715, 0.00099762,\n",
      "       0.00199469, 0.00099794, 0.00099738, 0.00099723, 0.00132982]), 'std_score_time': array([4.69797033e-04, 4.70246478e-04, 1.12391596e-07, 1.12391596e-07,\n",
      "       5.94720425e-07, 6.83651389e-07, 1.07214749e-06, 1.12391596e-07,\n",
      "       1.12391596e-07, 4.70246478e-04]), 'param_n_neighbors': masked_array(data=[1, 2, 3, 4, 5, 6, 7, 8, 9, 10],\n",
      "             mask=[False, False, False, False, False, False, False, False,\n",
      "                   False, False],\n",
      "       fill_value='?',\n",
      "            dtype=object), 'params': [{'n_neighbors': 1}, {'n_neighbors': 2}, {'n_neighbors': 3}, {'n_neighbors': 4}, {'n_neighbors': 5}, {'n_neighbors': 6}, {'n_neighbors': 7}, {'n_neighbors': 8}, {'n_neighbors': 9}, {'n_neighbors': 10}], 'split0_test_score': array([0.94736842, 0.81578947, 0.89473684, 0.89473684, 0.89473684,\n",
      "       0.89473684, 0.89473684, 0.92105263, 0.92105263, 0.92105263]), 'split1_test_score': array([0.97297297, 0.94594595, 1.        , 0.94594595, 0.97297297,\n",
      "       0.97297297, 1.        , 1.        , 1.        , 1.        ]), 'split2_test_score': array([0.91891892, 0.94594595, 0.91891892, 0.94594595, 0.97297297,\n",
      "       0.97297297, 0.94594595, 0.94594595, 0.91891892, 0.94594595]), 'mean_test_score': array([0.9464201 , 0.90256046, 0.93788525, 0.92887624, 0.94689426,\n",
      "       0.94689426, 0.94689426, 0.95566619, 0.94665718, 0.95566619]), 'std_test_score': array([0.02207766, 0.06135635, 0.04501759, 0.0241402 , 0.03688087,\n",
      "       0.03688087, 0.04297874, 0.03295486, 0.03772912, 0.03295486]), 'rank_test_score': array([ 7, 10,  8,  9,  3,  3,  3,  1,  6,  1])}\n"
     ]
    }
   ],
   "source": [
    "# # 构造一些参数的值进行搜索\n",
    "param = {\"n_neighbors\": [i for i in range(1, 11)]}\n",
    "#\n",
    "# 进行网格搜索，cv=3是3折交叉验证，用其中2折训练，1折验证\n",
    "gc = GridSearchCV(knn, param_grid=param, cv=3)\n",
    "\n",
    "gc.fit(X_train, Y_train)  #你给它的x_train，它又分为训练集，验证集\n",
    "\n",
    "# 预测准确率，为了给大家看看\n",
    "print(\"在测试集上准确率：\", gc.score(X_test, Y_test))\n",
    "\n",
    "print(\"在交叉验证当中最好的结果：\", gc.best_score_)\n",
    "\n",
    "print(\"选择最好的模型是：\", gc.best_estimator_)\n",
    "\n",
    "print(\"每个超参数每次交叉验证的结果：\", gc.cv_results_)"
   ],
   "metadata": {
    "collapsed": false
   }
  }
 ],
 "metadata": {
  "kernelspec": {
   "display_name": "Python 3",
   "language": "python",
   "name": "python3"
  },
  "language_info": {
   "codemirror_mode": {
    "name": "ipython",
    "version": 2
   },
   "file_extension": ".py",
   "mimetype": "text/x-python",
   "name": "python",
   "nbconvert_exporter": "python",
   "pygments_lexer": "ipython2",
   "version": "2.7.6"
  }
 },
 "nbformat": 4,
 "nbformat_minor": 0
}
